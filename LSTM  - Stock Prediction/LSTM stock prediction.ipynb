{
 "cells": [
  {
   "cell_type": "code",
   "execution_count": 99,
   "id": "c3fcdb6d",
   "metadata": {},
   "outputs": [],
   "source": [
    "import pandas as pd\n",
    "import numpy as np\n",
    "import matplotlib.pyplot as plt\n",
    "import matplotlib\n",
    "from sklearn.preprocessing import MinMaxScaler\n",
    "from tensorflow.keras.layers import LSTM,Dense,Dropout\n",
    "from sklearn.model_selection import TimeSeriesSplit\n",
    "from sklearn.metrics import mean_squared_error, r2_score\n",
    "import matplotlib.dates as mdates\n",
    "from sklearn import linear_model\n",
    "\n",
    "from tensorflow.keras.models import model_from_json"
   ]
  },
  {
   "cell_type": "code",
   "execution_count": 100,
   "id": "b4f9c16f",
   "metadata": {},
   "outputs": [
    {
     "data": {
      "text/html": [
       "<div>\n",
       "<style scoped>\n",
       "    .dataframe tbody tr th:only-of-type {\n",
       "        vertical-align: middle;\n",
       "    }\n",
       "\n",
       "    .dataframe tbody tr th {\n",
       "        vertical-align: top;\n",
       "    }\n",
       "\n",
       "    .dataframe thead th {\n",
       "        text-align: right;\n",
       "    }\n",
       "</style>\n",
       "<table border=\"1\" class=\"dataframe\">\n",
       "  <thead>\n",
       "    <tr style=\"text-align: right;\">\n",
       "      <th></th>\n",
       "      <th>open</th>\n",
       "      <th>high</th>\n",
       "      <th>low</th>\n",
       "      <th>close</th>\n",
       "      <th>volume</th>\n",
       "      <th>Name</th>\n",
       "    </tr>\n",
       "    <tr>\n",
       "      <th>date</th>\n",
       "      <th></th>\n",
       "      <th></th>\n",
       "      <th></th>\n",
       "      <th></th>\n",
       "      <th></th>\n",
       "      <th></th>\n",
       "    </tr>\n",
       "  </thead>\n",
       "  <tbody>\n",
       "    <tr>\n",
       "      <th>2013-02-08</th>\n",
       "      <td>55.51</td>\n",
       "      <td>56.1498</td>\n",
       "      <td>55.51</td>\n",
       "      <td>56.08</td>\n",
       "      <td>394639</td>\n",
       "      <td>VMC</td>\n",
       "    </tr>\n",
       "    <tr>\n",
       "      <th>2013-02-11</th>\n",
       "      <td>55.97</td>\n",
       "      <td>56.2899</td>\n",
       "      <td>55.64</td>\n",
       "      <td>55.65</td>\n",
       "      <td>214019</td>\n",
       "      <td>VMC</td>\n",
       "    </tr>\n",
       "    <tr>\n",
       "      <th>2013-02-12</th>\n",
       "      <td>55.57</td>\n",
       "      <td>56.6500</td>\n",
       "      <td>55.55</td>\n",
       "      <td>56.12</td>\n",
       "      <td>732280</td>\n",
       "      <td>VMC</td>\n",
       "    </tr>\n",
       "    <tr>\n",
       "      <th>2013-02-13</th>\n",
       "      <td>56.29</td>\n",
       "      <td>56.4700</td>\n",
       "      <td>55.75</td>\n",
       "      <td>55.86</td>\n",
       "      <td>751033</td>\n",
       "      <td>VMC</td>\n",
       "    </tr>\n",
       "    <tr>\n",
       "      <th>2013-02-14</th>\n",
       "      <td>55.46</td>\n",
       "      <td>55.4999</td>\n",
       "      <td>52.79</td>\n",
       "      <td>54.87</td>\n",
       "      <td>1673716</td>\n",
       "      <td>VMC</td>\n",
       "    </tr>\n",
       "  </tbody>\n",
       "</table>\n",
       "</div>"
      ],
      "text/plain": [
       "             open     high    low  close   volume Name\n",
       "date                                                  \n",
       "2013-02-08  55.51  56.1498  55.51  56.08   394639  VMC\n",
       "2013-02-11  55.97  56.2899  55.64  55.65   214019  VMC\n",
       "2013-02-12  55.57  56.6500  55.55  56.12   732280  VMC\n",
       "2013-02-13  56.29  56.4700  55.75  55.86   751033  VMC\n",
       "2013-02-14  55.46  55.4999  52.79  54.87  1673716  VMC"
      ]
     },
     "execution_count": 100,
     "metadata": {},
     "output_type": "execute_result"
    }
   ],
   "source": [
    "df_final = pd.read_csv(r\"C:\\Users\\Udhayakuamar\\Desktop\\Des- data\\Internship dataset\\VMC_data.csv\",na_values=['null'],index_col='date',parse_dates=True,infer_datetime_format=True)\n",
    "df_final.head()"
   ]
  },
  {
   "cell_type": "code",
   "execution_count": 101,
   "id": "a5e0d995",
   "metadata": {},
   "outputs": [
    {
     "data": {
      "text/html": [
       "<div>\n",
       "<style scoped>\n",
       "    .dataframe tbody tr th:only-of-type {\n",
       "        vertical-align: middle;\n",
       "    }\n",
       "\n",
       "    .dataframe tbody tr th {\n",
       "        vertical-align: top;\n",
       "    }\n",
       "\n",
       "    .dataframe thead th {\n",
       "        text-align: right;\n",
       "    }\n",
       "</style>\n",
       "<table border=\"1\" class=\"dataframe\">\n",
       "  <thead>\n",
       "    <tr style=\"text-align: right;\">\n",
       "      <th></th>\n",
       "      <th>open</th>\n",
       "      <th>high</th>\n",
       "      <th>low</th>\n",
       "      <th>close</th>\n",
       "      <th>volume</th>\n",
       "    </tr>\n",
       "    <tr>\n",
       "      <th>date</th>\n",
       "      <th></th>\n",
       "      <th></th>\n",
       "      <th></th>\n",
       "      <th></th>\n",
       "      <th></th>\n",
       "    </tr>\n",
       "  </thead>\n",
       "  <tbody>\n",
       "    <tr>\n",
       "      <th>2013-02-08</th>\n",
       "      <td>55.51</td>\n",
       "      <td>56.1498</td>\n",
       "      <td>55.51</td>\n",
       "      <td>56.08</td>\n",
       "      <td>394639</td>\n",
       "    </tr>\n",
       "    <tr>\n",
       "      <th>2013-02-11</th>\n",
       "      <td>55.97</td>\n",
       "      <td>56.2899</td>\n",
       "      <td>55.64</td>\n",
       "      <td>55.65</td>\n",
       "      <td>214019</td>\n",
       "    </tr>\n",
       "    <tr>\n",
       "      <th>2013-02-12</th>\n",
       "      <td>55.57</td>\n",
       "      <td>56.6500</td>\n",
       "      <td>55.55</td>\n",
       "      <td>56.12</td>\n",
       "      <td>732280</td>\n",
       "    </tr>\n",
       "    <tr>\n",
       "      <th>2013-02-13</th>\n",
       "      <td>56.29</td>\n",
       "      <td>56.4700</td>\n",
       "      <td>55.75</td>\n",
       "      <td>55.86</td>\n",
       "      <td>751033</td>\n",
       "    </tr>\n",
       "    <tr>\n",
       "      <th>2013-02-14</th>\n",
       "      <td>55.46</td>\n",
       "      <td>55.4999</td>\n",
       "      <td>52.79</td>\n",
       "      <td>54.87</td>\n",
       "      <td>1673716</td>\n",
       "    </tr>\n",
       "  </tbody>\n",
       "</table>\n",
       "</div>"
      ],
      "text/plain": [
       "             open     high    low  close   volume\n",
       "date                                             \n",
       "2013-02-08  55.51  56.1498  55.51  56.08   394639\n",
       "2013-02-11  55.97  56.2899  55.64  55.65   214019\n",
       "2013-02-12  55.57  56.6500  55.55  56.12   732280\n",
       "2013-02-13  56.29  56.4700  55.75  55.86   751033\n",
       "2013-02-14  55.46  55.4999  52.79  54.87  1673716"
      ]
     },
     "execution_count": 101,
     "metadata": {},
     "output_type": "execute_result"
    }
   ],
   "source": [
    "df_final.drop(df_final.columns[[5]], axis=1, inplace=True)\n",
    "df_final.head()"
   ]
  },
  {
   "cell_type": "code",
   "execution_count": 102,
   "id": "136f0068",
   "metadata": {},
   "outputs": [
    {
     "data": {
      "text/plain": [
       "(1259, 5)"
      ]
     },
     "execution_count": 102,
     "metadata": {},
     "output_type": "execute_result"
    }
   ],
   "source": [
    "df_final.shape"
   ]
  },
  {
   "cell_type": "code",
   "execution_count": 103,
   "id": "e73270fb",
   "metadata": {},
   "outputs": [
    {
     "data": {
      "text/plain": [
       "<AxesSubplot:xlabel='date'>"
      ]
     },
     "execution_count": 103,
     "metadata": {},
     "output_type": "execute_result"
    },
    {
     "data": {
      "image/png": "[encoded data removed]",
      "text/plain": [
       "<Figure size 432x288 with 1 Axes>"
      ]
     },
     "metadata": {
      "needs_background": "light"
     },
     "output_type": "display_data"
    }
   ],
   "source": [
    "df_final['close'].plot()"
   ]
  },
  {
   "cell_type": "code",
   "execution_count": 104,
   "id": "849fb185",
   "metadata": {},
   "outputs": [
    {
     "data": {
      "text/html": [
       "<div>\n",
       "<style scoped>\n",
       "    .dataframe tbody tr th:only-of-type {\n",
       "        vertical-align: middle;\n",
       "    }\n",
       "\n",
       "    .dataframe tbody tr th {\n",
       "        vertical-align: top;\n",
       "    }\n",
       "\n",
       "    .dataframe thead th {\n",
       "        text-align: right;\n",
       "    }\n",
       "</style>\n",
       "<table border=\"1\" class=\"dataframe\">\n",
       "  <thead>\n",
       "    <tr style=\"text-align: right;\">\n",
       "      <th></th>\n",
       "      <th>open</th>\n",
       "      <th>high</th>\n",
       "      <th>low</th>\n",
       "      <th>close</th>\n",
       "      <th>volume</th>\n",
       "    </tr>\n",
       "    <tr>\n",
       "      <th>date</th>\n",
       "      <th></th>\n",
       "      <th></th>\n",
       "      <th></th>\n",
       "      <th></th>\n",
       "      <th></th>\n",
       "    </tr>\n",
       "  </thead>\n",
       "  <tbody>\n",
       "    <tr>\n",
       "      <th>2013-02-08</th>\n",
       "      <td>55.51</td>\n",
       "      <td>56.1498</td>\n",
       "      <td>55.51</td>\n",
       "      <td>56.08</td>\n",
       "      <td>394639</td>\n",
       "    </tr>\n",
       "    <tr>\n",
       "      <th>2013-02-11</th>\n",
       "      <td>55.97</td>\n",
       "      <td>56.2899</td>\n",
       "      <td>55.64</td>\n",
       "      <td>55.65</td>\n",
       "      <td>214019</td>\n",
       "    </tr>\n",
       "    <tr>\n",
       "      <th>2013-02-12</th>\n",
       "      <td>55.57</td>\n",
       "      <td>56.6500</td>\n",
       "      <td>55.55</td>\n",
       "      <td>56.12</td>\n",
       "      <td>732280</td>\n",
       "    </tr>\n",
       "    <tr>\n",
       "      <th>2013-02-13</th>\n",
       "      <td>56.29</td>\n",
       "      <td>56.4700</td>\n",
       "      <td>55.75</td>\n",
       "      <td>55.86</td>\n",
       "      <td>751033</td>\n",
       "    </tr>\n",
       "    <tr>\n",
       "      <th>2013-02-14</th>\n",
       "      <td>55.46</td>\n",
       "      <td>55.4999</td>\n",
       "      <td>52.79</td>\n",
       "      <td>54.87</td>\n",
       "      <td>1673716</td>\n",
       "    </tr>\n",
       "  </tbody>\n",
       "</table>\n",
       "</div>"
      ],
      "text/plain": [
       "             open     high    low  close   volume\n",
       "date                                             \n",
       "2013-02-08  55.51  56.1498  55.51  56.08   394639\n",
       "2013-02-11  55.97  56.2899  55.64  55.65   214019\n",
       "2013-02-12  55.57  56.6500  55.55  56.12   732280\n",
       "2013-02-13  56.29  56.4700  55.75  55.86   751033\n",
       "2013-02-14  55.46  55.4999  52.79  54.87  1673716"
      ]
     },
     "metadata": {},
     "output_type": "display_data"
    }
   ],
   "source": [
    "test = df_final\n",
    "# Target column\n",
    "target = pd.DataFrame(test['close'])\n",
    "display(test.head())"
   ]
  },
  {
   "cell_type": "code",
   "execution_count": 105,
   "id": "38be0e9b",
   "metadata": {},
   "outputs": [],
   "source": [
    "feature_columns = ['open', 'high', 'low', 'volume']"
   ]
  },
  {
   "cell_type": "code",
   "execution_count": 106,
   "id": "7474113d",
   "metadata": {},
   "outputs": [
    {
     "data": {
      "text/html": [
       "<div>\n",
       "<style scoped>\n",
       "    .dataframe tbody tr th:only-of-type {\n",
       "        vertical-align: middle;\n",
       "    }\n",
       "\n",
       "    .dataframe tbody tr th {\n",
       "        vertical-align: top;\n",
       "    }\n",
       "\n",
       "    .dataframe thead th {\n",
       "        text-align: right;\n",
       "    }\n",
       "</style>\n",
       "<table border=\"1\" class=\"dataframe\">\n",
       "  <thead>\n",
       "    <tr style=\"text-align: right;\">\n",
       "      <th></th>\n",
       "      <th>open</th>\n",
       "      <th>high</th>\n",
       "      <th>low</th>\n",
       "      <th>volume</th>\n",
       "    </tr>\n",
       "    <tr>\n",
       "      <th>date</th>\n",
       "      <th></th>\n",
       "      <th></th>\n",
       "      <th></th>\n",
       "      <th></th>\n",
       "    </tr>\n",
       "  </thead>\n",
       "  <tbody>\n",
       "    <tr>\n",
       "      <th>2013-02-08</th>\n",
       "      <td>0.097826</td>\n",
       "      <td>0.103036</td>\n",
       "      <td>0.108349</td>\n",
       "      <td>0.035000</td>\n",
       "    </tr>\n",
       "    <tr>\n",
       "      <th>2013-02-11</th>\n",
       "      <td>0.102680</td>\n",
       "      <td>0.104514</td>\n",
       "      <td>0.109745</td>\n",
       "      <td>0.000000</td>\n",
       "    </tr>\n",
       "    <tr>\n",
       "      <th>2013-02-12</th>\n",
       "      <td>0.098459</td>\n",
       "      <td>0.108311</td>\n",
       "      <td>0.108779</td>\n",
       "      <td>0.100426</td>\n",
       "    </tr>\n",
       "    <tr>\n",
       "      <th>2013-02-13</th>\n",
       "      <td>0.106057</td>\n",
       "      <td>0.106413</td>\n",
       "      <td>0.110926</td>\n",
       "      <td>0.104060</td>\n",
       "    </tr>\n",
       "    <tr>\n",
       "      <th>2013-02-14</th>\n",
       "      <td>0.097298</td>\n",
       "      <td>0.096182</td>\n",
       "      <td>0.079141</td>\n",
       "      <td>0.282852</td>\n",
       "    </tr>\n",
       "  </tbody>\n",
       "</table>\n",
       "</div>"
      ],
      "text/plain": [
       "                open      high       low    volume\n",
       "date                                              \n",
       "2013-02-08  0.097826  0.103036  0.108349  0.035000\n",
       "2013-02-11  0.102680  0.104514  0.109745  0.000000\n",
       "2013-02-12  0.098459  0.108311  0.108779  0.100426\n",
       "2013-02-13  0.106057  0.106413  0.110926  0.104060\n",
       "2013-02-14  0.097298  0.096182  0.079141  0.282852"
      ]
     },
     "execution_count": 106,
     "metadata": {},
     "output_type": "execute_result"
    }
   ],
   "source": [
    "from sklearn.preprocessing import MinMaxScaler\n",
    "scaler = MinMaxScaler()\n",
    "feature_minmax_transform_data = scaler.fit_transform(test[feature_columns])\n",
    "feature_minmax_transform = pd.DataFrame(columns=feature_columns, data=feature_minmax_transform_data, index=test.index)\n",
    "feature_minmax_transform.head()"
   ]
  },
  {
   "cell_type": "code",
   "execution_count": 107,
   "id": "7b478924",
   "metadata": {},
   "outputs": [
    {
     "name": "stdout",
     "output_type": "stream",
     "text": [
      "Shape of features :  (1259, 4)\n",
      "Shape of target :  (1259, 1)\n"
     ]
    }
   ],
   "source": [
    "print('Shape of features : ', feature_minmax_transform.shape)\n",
    "print('Shape of target : ', target.shape)"
   ]
  },
  {
   "cell_type": "code",
   "execution_count": 108,
   "id": "58abab47",
   "metadata": {},
   "outputs": [],
   "source": [
    "target = target.shift(-1)\n",
    "validation_y = target[-100:-1]\n",
    "target = target[:-100]"
   ]
  },
  {
   "cell_type": "code",
   "execution_count": 109,
   "id": "4b963ce8",
   "metadata": {},
   "outputs": [
    {
     "data": {
      "text/html": [
       "<div>\n",
       "<style scoped>\n",
       "    .dataframe tbody tr th:only-of-type {\n",
       "        vertical-align: middle;\n",
       "    }\n",
       "\n",
       "    .dataframe tbody tr th {\n",
       "        vertical-align: top;\n",
       "    }\n",
       "\n",
       "    .dataframe thead th {\n",
       "        text-align: right;\n",
       "    }\n",
       "</style>\n",
       "<table border=\"1\" class=\"dataframe\">\n",
       "  <thead>\n",
       "    <tr style=\"text-align: right;\">\n",
       "      <th></th>\n",
       "      <th>open</th>\n",
       "      <th>high</th>\n",
       "      <th>low</th>\n",
       "      <th>volume</th>\n",
       "    </tr>\n",
       "    <tr>\n",
       "      <th>date</th>\n",
       "      <th></th>\n",
       "      <th></th>\n",
       "      <th></th>\n",
       "      <th></th>\n",
       "    </tr>\n",
       "  </thead>\n",
       "  <tbody>\n",
       "    <tr>\n",
       "      <th>2018-01-31</th>\n",
       "      <td>0.994618</td>\n",
       "      <td>0.992512</td>\n",
       "      <td>0.937718</td>\n",
       "      <td>0.382984</td>\n",
       "    </tr>\n",
       "    <tr>\n",
       "      <th>2018-02-01</th>\n",
       "      <td>0.932566</td>\n",
       "      <td>0.955073</td>\n",
       "      <td>0.950336</td>\n",
       "      <td>0.365627</td>\n",
       "    </tr>\n",
       "    <tr>\n",
       "      <th>2018-02-02</th>\n",
       "      <td>0.914521</td>\n",
       "      <td>0.922485</td>\n",
       "      <td>0.908134</td>\n",
       "      <td>0.319248</td>\n",
       "    </tr>\n",
       "    <tr>\n",
       "      <th>2018-02-05</th>\n",
       "      <td>0.885289</td>\n",
       "      <td>0.895486</td>\n",
       "      <td>0.833826</td>\n",
       "      <td>0.419908</td>\n",
       "    </tr>\n",
       "    <tr>\n",
       "      <th>2018-02-06</th>\n",
       "      <td>0.811418</td>\n",
       "      <td>0.867750</td>\n",
       "      <td>0.830282</td>\n",
       "      <td>0.296980</td>\n",
       "    </tr>\n",
       "  </tbody>\n",
       "</table>\n",
       "</div>"
      ],
      "text/plain": [
       "                open      high       low    volume\n",
       "date                                              \n",
       "2018-01-31  0.994618  0.992512  0.937718  0.382984\n",
       "2018-02-01  0.932566  0.955073  0.950336  0.365627\n",
       "2018-02-02  0.914521  0.922485  0.908134  0.319248\n",
       "2018-02-05  0.885289  0.895486  0.833826  0.419908\n",
       "2018-02-06  0.811418  0.867750  0.830282  0.296980"
      ]
     },
     "metadata": {},
     "output_type": "display_data"
    },
    {
     "data": {
      "text/html": [
       "<div>\n",
       "<style scoped>\n",
       "    .dataframe tbody tr th:only-of-type {\n",
       "        vertical-align: middle;\n",
       "    }\n",
       "\n",
       "    .dataframe tbody tr th {\n",
       "        vertical-align: top;\n",
       "    }\n",
       "\n",
       "    .dataframe thead th {\n",
       "        text-align: right;\n",
       "    }\n",
       "</style>\n",
       "<table border=\"1\" class=\"dataframe\">\n",
       "  <thead>\n",
       "    <tr style=\"text-align: right;\">\n",
       "      <th></th>\n",
       "      <th>close</th>\n",
       "    </tr>\n",
       "    <tr>\n",
       "      <th>date</th>\n",
       "      <th></th>\n",
       "    </tr>\n",
       "  </thead>\n",
       "  <tbody>\n",
       "    <tr>\n",
       "      <th>2018-01-31</th>\n",
       "      <td>134.23</td>\n",
       "    </tr>\n",
       "    <tr>\n",
       "      <th>2018-02-01</th>\n",
       "      <td>131.00</td>\n",
       "    </tr>\n",
       "    <tr>\n",
       "      <th>2018-02-02</th>\n",
       "      <td>125.20</td>\n",
       "    </tr>\n",
       "    <tr>\n",
       "      <th>2018-02-05</th>\n",
       "      <td>126.78</td>\n",
       "    </tr>\n",
       "    <tr>\n",
       "      <th>2018-02-06</th>\n",
       "      <td>128.24</td>\n",
       "    </tr>\n",
       "  </tbody>\n",
       "</table>\n",
       "</div>"
      ],
      "text/plain": [
       "             close\n",
       "date              \n",
       "2018-01-31  134.23\n",
       "2018-02-01  131.00\n",
       "2018-02-02  125.20\n",
       "2018-02-05  126.78\n",
       "2018-02-06  128.24"
      ]
     },
     "metadata": {},
     "output_type": "display_data"
    }
   ],
   "source": [
    "validation_X = feature_minmax_transform[-100:-1]\n",
    "feature_minmax_transform = feature_minmax_transform[:-100]\n",
    "display(validation_X.tail())\n",
    "display(validation_y.tail())"
   ]
  },
  {
   "cell_type": "code",
   "execution_count": 110,
   "id": "8ea4ba11",
   "metadata": {},
   "outputs": [
    {
     "name": "stdout",
     "output_type": "stream",
     "text": [
      "Shape of features :  (1159, 4)\n",
      "Shape of target :  (1159, 1)\n"
     ]
    },
    {
     "data": {
      "text/html": [
       "<div>\n",
       "<style scoped>\n",
       "    .dataframe tbody tr th:only-of-type {\n",
       "        vertical-align: middle;\n",
       "    }\n",
       "\n",
       "    .dataframe tbody tr th {\n",
       "        vertical-align: top;\n",
       "    }\n",
       "\n",
       "    .dataframe thead th {\n",
       "        text-align: right;\n",
       "    }\n",
       "</style>\n",
       "<table border=\"1\" class=\"dataframe\">\n",
       "  <thead>\n",
       "    <tr style=\"text-align: right;\">\n",
       "      <th></th>\n",
       "      <th>close</th>\n",
       "    </tr>\n",
       "    <tr>\n",
       "      <th>date</th>\n",
       "      <th></th>\n",
       "    </tr>\n",
       "  </thead>\n",
       "  <tbody>\n",
       "    <tr>\n",
       "      <th>2017-09-08</th>\n",
       "      <td>117.00</td>\n",
       "    </tr>\n",
       "    <tr>\n",
       "      <th>2017-09-11</th>\n",
       "      <td>118.00</td>\n",
       "    </tr>\n",
       "    <tr>\n",
       "      <th>2017-09-12</th>\n",
       "      <td>117.02</td>\n",
       "    </tr>\n",
       "    <tr>\n",
       "      <th>2017-09-13</th>\n",
       "      <td>114.54</td>\n",
       "    </tr>\n",
       "    <tr>\n",
       "      <th>2017-09-14</th>\n",
       "      <td>113.21</td>\n",
       "    </tr>\n",
       "  </tbody>\n",
       "</table>\n",
       "</div>"
      ],
      "text/plain": [
       "             close\n",
       "date              \n",
       "2017-09-08  117.00\n",
       "2017-09-11  118.00\n",
       "2017-09-12  117.02\n",
       "2017-09-13  114.54\n",
       "2017-09-14  113.21"
      ]
     },
     "metadata": {},
     "output_type": "display_data"
    }
   ],
   "source": [
    "print('Shape of features : ', feature_minmax_transform.shape)\n",
    "print('Shape of target : ', target.shape)\n",
    "display(target.tail())"
   ]
  },
  {
   "cell_type": "markdown",
   "id": "d68f1cdd",
   "metadata": {},
   "source": [
    "## Splitting into training and testing sets"
   ]
  },
  {
   "cell_type": "code",
   "execution_count": 111,
   "id": "4b257b0a",
   "metadata": {},
   "outputs": [],
   "source": [
    "ts_split= TimeSeriesSplit(n_splits=10)\n",
    "for train_index, test_index in ts_split.split(feature_minmax_transform):\n",
    "        X_train, X_test = feature_minmax_transform[:len(train_index)], feature_minmax_transform[len(train_index): (len(train_index)+len(test_index))]\n",
    "        y_train, y_test = target[:len(train_index)].values.ravel(), target[len(train_index): (len(train_index)+len(test_index))].values.ravel()"
   ]
  },
  {
   "cell_type": "code",
   "execution_count": 112,
   "id": "d6b1c830",
   "metadata": {},
   "outputs": [
    {
     "data": {
      "text/plain": [
       "(1054, 4)"
      ]
     },
     "execution_count": 112,
     "metadata": {},
     "output_type": "execute_result"
    }
   ],
   "source": [
    "X_train.shape"
   ]
  },
  {
   "cell_type": "code",
   "execution_count": 113,
   "id": "1df2eb10",
   "metadata": {},
   "outputs": [
    {
     "data": {
      "text/html": [
       "<div>\n",
       "<style scoped>\n",
       "    .dataframe tbody tr th:only-of-type {\n",
       "        vertical-align: middle;\n",
       "    }\n",
       "\n",
       "    .dataframe tbody tr th {\n",
       "        vertical-align: top;\n",
       "    }\n",
       "\n",
       "    .dataframe thead th {\n",
       "        text-align: right;\n",
       "    }\n",
       "</style>\n",
       "<table border=\"1\" class=\"dataframe\">\n",
       "  <thead>\n",
       "    <tr style=\"text-align: right;\">\n",
       "      <th></th>\n",
       "      <th>open</th>\n",
       "      <th>high</th>\n",
       "      <th>low</th>\n",
       "      <th>volume</th>\n",
       "    </tr>\n",
       "    <tr>\n",
       "      <th>date</th>\n",
       "      <th></th>\n",
       "      <th></th>\n",
       "      <th></th>\n",
       "      <th></th>\n",
       "    </tr>\n",
       "  </thead>\n",
       "  <tbody>\n",
       "    <tr>\n",
       "      <th>2013-02-08</th>\n",
       "      <td>0.097826</td>\n",
       "      <td>0.103036</td>\n",
       "      <td>0.108349</td>\n",
       "      <td>0.035000</td>\n",
       "    </tr>\n",
       "    <tr>\n",
       "      <th>2013-02-11</th>\n",
       "      <td>0.102680</td>\n",
       "      <td>0.104514</td>\n",
       "      <td>0.109745</td>\n",
       "      <td>0.000000</td>\n",
       "    </tr>\n",
       "    <tr>\n",
       "      <th>2013-02-12</th>\n",
       "      <td>0.098459</td>\n",
       "      <td>0.108311</td>\n",
       "      <td>0.108779</td>\n",
       "      <td>0.100426</td>\n",
       "    </tr>\n",
       "    <tr>\n",
       "      <th>2013-02-13</th>\n",
       "      <td>0.106057</td>\n",
       "      <td>0.106413</td>\n",
       "      <td>0.110926</td>\n",
       "      <td>0.104060</td>\n",
       "    </tr>\n",
       "    <tr>\n",
       "      <th>2013-02-14</th>\n",
       "      <td>0.097298</td>\n",
       "      <td>0.096182</td>\n",
       "      <td>0.079141</td>\n",
       "      <td>0.282852</td>\n",
       "    </tr>\n",
       "    <tr>\n",
       "      <th>...</th>\n",
       "      <td>...</td>\n",
       "      <td>...</td>\n",
       "      <td>...</td>\n",
       "      <td>...</td>\n",
       "    </tr>\n",
       "    <tr>\n",
       "      <th>2017-04-10</th>\n",
       "      <td>0.818067</td>\n",
       "      <td>0.816073</td>\n",
       "      <td>0.811597</td>\n",
       "      <td>0.245468</td>\n",
       "    </tr>\n",
       "    <tr>\n",
       "      <th>2017-04-11</th>\n",
       "      <td>0.787674</td>\n",
       "      <td>0.793820</td>\n",
       "      <td>0.788940</td>\n",
       "      <td>0.131711</td>\n",
       "    </tr>\n",
       "    <tr>\n",
       "      <th>2017-04-12</th>\n",
       "      <td>0.788096</td>\n",
       "      <td>0.786121</td>\n",
       "      <td>0.771866</td>\n",
       "      <td>0.194435</td>\n",
       "    </tr>\n",
       "    <tr>\n",
       "      <th>2017-04-13</th>\n",
       "      <td>0.750422</td>\n",
       "      <td>0.756433</td>\n",
       "      <td>0.760698</td>\n",
       "      <td>0.203258</td>\n",
       "    </tr>\n",
       "    <tr>\n",
       "      <th>2017-04-17</th>\n",
       "      <td>0.751583</td>\n",
       "      <td>0.761865</td>\n",
       "      <td>0.771758</td>\n",
       "      <td>0.099736</td>\n",
       "    </tr>\n",
       "  </tbody>\n",
       "</table>\n",
       "<p>1054 rows × 4 columns</p>\n",
       "</div>"
      ],
      "text/plain": [
       "                open      high       low    volume\n",
       "date                                              \n",
       "2013-02-08  0.097826  0.103036  0.108349  0.035000\n",
       "2013-02-11  0.102680  0.104514  0.109745  0.000000\n",
       "2013-02-12  0.098459  0.108311  0.108779  0.100426\n",
       "2013-02-13  0.106057  0.106413  0.110926  0.104060\n",
       "2013-02-14  0.097298  0.096182  0.079141  0.282852\n",
       "...              ...       ...       ...       ...\n",
       "2017-04-10  0.818067  0.816073  0.811597  0.245468\n",
       "2017-04-11  0.787674  0.793820  0.788940  0.131711\n",
       "2017-04-12  0.788096  0.786121  0.771866  0.194435\n",
       "2017-04-13  0.750422  0.756433  0.760698  0.203258\n",
       "2017-04-17  0.751583  0.761865  0.771758  0.099736\n",
       "\n",
       "[1054 rows x 4 columns]"
      ]
     },
     "execution_count": 113,
     "metadata": {},
     "output_type": "execute_result"
    }
   ],
   "source": [
    "X_train"
   ]
  },
  {
   "cell_type": "code",
   "execution_count": 114,
   "id": "377ce90b",
   "metadata": {},
   "outputs": [
    {
     "data": {
      "text/plain": [
       "(1054,)"
      ]
     },
     "execution_count": 114,
     "metadata": {},
     "output_type": "execute_result"
    }
   ],
   "source": [
    "y_train.shape"
   ]
  },
  {
   "cell_type": "code",
   "execution_count": 115,
   "id": "1f6c1003",
   "metadata": {},
   "outputs": [
    {
     "data": {
      "text/plain": [
       "array([ 55.65,  56.12,  55.86, ..., 117.28, 118.19, 116.9 ])"
      ]
     },
     "execution_count": 115,
     "metadata": {},
     "output_type": "execute_result"
    }
   ],
   "source": [
    "y_train"
   ]
  },
  {
   "cell_type": "code",
   "execution_count": 116,
   "id": "f2d42e36",
   "metadata": {},
   "outputs": [
    {
     "data": {
      "text/plain": [
       "(105, 4)"
      ]
     },
     "execution_count": 116,
     "metadata": {},
     "output_type": "execute_result"
    }
   ],
   "source": [
    "X_test.shape"
   ]
  },
  {
   "cell_type": "code",
   "execution_count": 117,
   "id": "808febcc",
   "metadata": {},
   "outputs": [
    {
     "data": {
      "text/html": [
       "<div>\n",
       "<style scoped>\n",
       "    .dataframe tbody tr th:only-of-type {\n",
       "        vertical-align: middle;\n",
       "    }\n",
       "\n",
       "    .dataframe tbody tr th {\n",
       "        vertical-align: top;\n",
       "    }\n",
       "\n",
       "    .dataframe thead th {\n",
       "        text-align: right;\n",
       "    }\n",
       "</style>\n",
       "<table border=\"1\" class=\"dataframe\">\n",
       "  <thead>\n",
       "    <tr style=\"text-align: right;\">\n",
       "      <th></th>\n",
       "      <th>open</th>\n",
       "      <th>high</th>\n",
       "      <th>low</th>\n",
       "      <th>volume</th>\n",
       "    </tr>\n",
       "    <tr>\n",
       "      <th>date</th>\n",
       "      <th></th>\n",
       "      <th></th>\n",
       "      <th></th>\n",
       "      <th></th>\n",
       "    </tr>\n",
       "  </thead>\n",
       "  <tbody>\n",
       "    <tr>\n",
       "      <th>2017-04-18</th>\n",
       "      <td>0.752849</td>\n",
       "      <td>0.758912</td>\n",
       "      <td>0.761879</td>\n",
       "      <td>0.104432</td>\n",
       "    </tr>\n",
       "    <tr>\n",
       "      <th>2017-04-19</th>\n",
       "      <td>0.754749</td>\n",
       "      <td>0.764818</td>\n",
       "      <td>0.767893</td>\n",
       "      <td>0.121645</td>\n",
       "    </tr>\n",
       "    <tr>\n",
       "      <th>2017-04-20</th>\n",
       "      <td>0.757070</td>\n",
       "      <td>0.781903</td>\n",
       "      <td>0.776805</td>\n",
       "      <td>0.112338</td>\n",
       "    </tr>\n",
       "    <tr>\n",
       "      <th>2017-04-21</th>\n",
       "      <td>0.777543</td>\n",
       "      <td>0.790656</td>\n",
       "      <td>0.793128</td>\n",
       "      <td>0.189803</td>\n",
       "    </tr>\n",
       "    <tr>\n",
       "      <th>2017-04-24</th>\n",
       "      <td>0.800760</td>\n",
       "      <td>0.805632</td>\n",
       "      <td>0.816430</td>\n",
       "      <td>0.147337</td>\n",
       "    </tr>\n",
       "    <tr>\n",
       "      <th>...</th>\n",
       "      <td>...</td>\n",
       "      <td>...</td>\n",
       "      <td>...</td>\n",
       "      <td>...</td>\n",
       "    </tr>\n",
       "    <tr>\n",
       "      <th>2017-09-08</th>\n",
       "      <td>0.777121</td>\n",
       "      <td>0.793293</td>\n",
       "      <td>0.789937</td>\n",
       "      <td>0.166229</td>\n",
       "    </tr>\n",
       "    <tr>\n",
       "      <th>2017-09-11</th>\n",
       "      <td>0.788940</td>\n",
       "      <td>0.791043</td>\n",
       "      <td>0.767463</td>\n",
       "      <td>0.241367</td>\n",
       "    </tr>\n",
       "    <tr>\n",
       "      <th>2017-09-12</th>\n",
       "      <td>0.752322</td>\n",
       "      <td>0.761021</td>\n",
       "      <td>0.769933</td>\n",
       "      <td>0.138193</td>\n",
       "    </tr>\n",
       "    <tr>\n",
       "      <th>2017-09-13</th>\n",
       "      <td>0.752533</td>\n",
       "      <td>0.751371</td>\n",
       "      <td>0.747383</td>\n",
       "      <td>0.164673</td>\n",
       "    </tr>\n",
       "    <tr>\n",
       "      <th>2017-09-14</th>\n",
       "      <td>0.739764</td>\n",
       "      <td>0.739612</td>\n",
       "      <td>0.739544</td>\n",
       "      <td>0.223620</td>\n",
       "    </tr>\n",
       "  </tbody>\n",
       "</table>\n",
       "<p>105 rows × 4 columns</p>\n",
       "</div>"
      ],
      "text/plain": [
       "                open      high       low    volume\n",
       "date                                              \n",
       "2017-04-18  0.752849  0.758912  0.761879  0.104432\n",
       "2017-04-19  0.754749  0.764818  0.767893  0.121645\n",
       "2017-04-20  0.757070  0.781903  0.776805  0.112338\n",
       "2017-04-21  0.777543  0.790656  0.793128  0.189803\n",
       "2017-04-24  0.800760  0.805632  0.816430  0.147337\n",
       "...              ...       ...       ...       ...\n",
       "2017-09-08  0.777121  0.793293  0.789937  0.166229\n",
       "2017-09-11  0.788940  0.791043  0.767463  0.241367\n",
       "2017-09-12  0.752322  0.761021  0.769933  0.138193\n",
       "2017-09-13  0.752533  0.751371  0.747383  0.164673\n",
       "2017-09-14  0.739764  0.739612  0.739544  0.223620\n",
       "\n",
       "[105 rows x 4 columns]"
      ]
     },
     "execution_count": 117,
     "metadata": {},
     "output_type": "execute_result"
    }
   ],
   "source": [
    "X_test"
   ]
  },
  {
   "cell_type": "code",
   "execution_count": 118,
   "id": "bdb1af27",
   "metadata": {},
   "outputs": [
    {
     "data": {
      "text/plain": [
       "(105,)"
      ]
     },
     "execution_count": 118,
     "metadata": {},
     "output_type": "execute_result"
    }
   ],
   "source": [
    "y_test.shape"
   ]
  },
  {
   "cell_type": "code",
   "execution_count": 119,
   "id": "b33d06ea",
   "metadata": {},
   "outputs": [
    {
     "data": {
      "text/plain": [
       "array([117.41, 119.83, 120.97, 122.02, 121.45, 120.73, 122.8 , 120.88,\n",
       "       123.35, 128.45, 127.59, 128.34, 127.74, 126.67, 126.11, 130.63,\n",
       "       129.04, 128.25, 130.71, 128.33, 124.9 , 126.06, 125.95, 126.93,\n",
       "       126.65, 125.12, 127.75, 126.43, 125.05, 124.65, 126.83, 126.26,\n",
       "       125.91, 125.16, 126.71, 128.34, 130.33, 129.91, 132.26, 129.21,\n",
       "       128.64, 129.38, 130.24, 129.54, 128.17, 129.34, 132.23, 133.48,\n",
       "       131.38, 130.2 , 127.01, 126.68, 127.14, 130.  , 129.45, 128.17,\n",
       "       125.92, 125.09, 126.16, 125.33, 124.96, 124.68, 123.03, 125.47,\n",
       "       125.3 , 126.19, 126.5 , 127.1 , 125.65, 124.04, 124.  , 123.12,\n",
       "       121.84, 123.12, 120.15, 121.84, 120.82, 118.39, 117.88, 114.71,\n",
       "       114.2 , 115.17, 116.61, 116.09, 114.11, 113.97, 112.57, 115.16,\n",
       "       114.63, 114.34, 113.13, 115.94, 116.5 , 121.86, 121.26, 121.2 ,\n",
       "       118.14, 119.05, 119.73, 121.52, 117.  , 118.  , 117.02, 114.54,\n",
       "       113.21])"
      ]
     },
     "execution_count": 119,
     "metadata": {},
     "output_type": "execute_result"
    }
   ],
   "source": [
    "\n",
    "y_test\n"
   ]
  },
  {
   "cell_type": "markdown",
   "id": "48724e5b",
   "metadata": {},
   "source": [
    "## Processing the data"
   ]
  },
  {
   "cell_type": "code",
   "execution_count": 120,
   "id": "9a8a45bc",
   "metadata": {},
   "outputs": [],
   "source": [
    "X_train =np.array(X_train)\n",
    "X_test =np.array(X_test)\n",
    "\n",
    "X_tr_t = X_train.reshape(X_train.shape[0], 1, X_train.shape[1])\n",
    "X_tst_t = X_test.reshape(X_test.shape[0], 1, X_test.shape[1])"
   ]
  },
  {
   "cell_type": "markdown",
   "id": "97f34ab6",
   "metadata": {},
   "source": [
    "## Model"
   ]
  },
  {
   "cell_type": "code",
   "execution_count": 121,
   "id": "74e2b499",
   "metadata": {},
   "outputs": [],
   "source": [
    "from tensorflow.keras.models import Sequential\n",
    "from tensorflow.keras.layers import Dense\n",
    "import tensorflow.keras.backend as K\n",
    "from tensorflow.keras.callbacks import EarlyStopping\n",
    "from tensorflow.keras.optimizers import Adam\n",
    "from tensorflow.keras.models import load_model\n",
    "from tensorflow.keras.layers import LSTM"
   ]
  },
  {
   "cell_type": "code",
   "execution_count": 122,
   "id": "2a679647",
   "metadata": {},
   "outputs": [
    {
     "name": "stdout",
     "output_type": "stream",
     "text": [
      "Epoch 1/200\n",
      "132/132 [==============================] - 2s 1ms/step - loss: 7413.2329\n",
      "Epoch 2/200\n",
      "132/132 [==============================] - 0s 2ms/step - loss: 7168.0190\n",
      "Epoch 3/200\n",
      "132/132 [==============================] - 0s 2ms/step - loss: 6702.5410\n",
      "Epoch 4/200\n",
      "132/132 [==============================] - 0s 2ms/step - loss: 6017.1831\n",
      "Epoch 5/200\n",
      "132/132 [==============================] - 0s 1ms/step - loss: 5178.2861\n",
      "Epoch 6/200\n",
      "132/132 [==============================] - 0s 1ms/step - loss: 4272.6318\n",
      "Epoch 7/200\n",
      "132/132 [==============================] - 0s 1ms/step - loss: 3377.2773\n",
      "Epoch 8/200\n",
      "132/132 [==============================] - 0s 2ms/step - loss: 2551.5991\n",
      "Epoch 9/200\n",
      "132/132 [==============================] - 0s 2ms/step - loss: 1836.4802\n",
      "Epoch 10/200\n",
      "132/132 [==============================] - 0s 2ms/step - loss: 1254.6968\n",
      "Epoch 11/200\n",
      "132/132 [==============================] - 0s 1ms/step - loss: 811.8215\n",
      "Epoch 12/200\n",
      "132/132 [==============================] - 0s 1ms/step - loss: 498.3099\n",
      "Epoch 13/200\n",
      "132/132 [==============================] - 0s 2ms/step - loss: 293.3374A: 0s - loss: 350.\n",
      "Epoch 14/200\n",
      "132/132 [==============================] - 0s 2ms/step - loss: 170.2384\n",
      "Epoch 15/200\n",
      "132/132 [==============================] - 0s 2ms/step - loss: 102.3820\n",
      "Epoch 16/200\n",
      "132/132 [==============================] - 0s 2ms/step - loss: 67.7439\n",
      "Epoch 17/200\n",
      "132/132 [==============================] - 0s 2ms/step - loss: 50.9232\n",
      "Epoch 18/200\n",
      "132/132 [==============================] - 0s 2ms/step - loss: 42.6958\n",
      "Epoch 19/200\n",
      "132/132 [==============================] - 0s 2ms/step - loss: 38.2624\n",
      "Epoch 20/200\n",
      "132/132 [==============================] - 0s 2ms/step - loss: 35.4128\n",
      "Epoch 21/200\n",
      "132/132 [==============================] - 0s 2ms/step - loss: 33.2240\n",
      "Epoch 22/200\n",
      "132/132 [==============================] - 0s 2ms/step - loss: 31.3341\n",
      "Epoch 23/200\n",
      "132/132 [==============================] - 0s 2ms/step - loss: 29.6040: 0s - loss: 28.79\n",
      "Epoch 24/200\n",
      "132/132 [==============================] - 0s 2ms/step - loss: 27.9788\n",
      "Epoch 25/200\n",
      "132/132 [==============================] - 0s 2ms/step - loss: 26.4370\n",
      "Epoch 26/200\n",
      "132/132 [==============================] - 0s 2ms/step - loss: 24.9700\n",
      "Epoch 27/200\n",
      "132/132 [==============================] - 0s 2ms/step - loss: 23.5753\n",
      "Epoch 28/200\n",
      "132/132 [==============================] - 0s 2ms/step - loss: 22.2528\n",
      "Epoch 29/200\n",
      "132/132 [==============================] - 0s 2ms/step - loss: 21.0032\n",
      "Epoch 30/200\n",
      "132/132 [==============================] - 0s 2ms/step - loss: 19.8268: 0s - loss: 18.70\n",
      "Epoch 31/200\n",
      "132/132 [==============================] - 0s 2ms/step - loss: 18.7235\n",
      "Epoch 32/200\n",
      "132/132 [==============================] - 0s 2ms/step - loss: 17.6926\n",
      "Epoch 33/200\n",
      "132/132 [==============================] - 0s 2ms/step - loss: 16.7324\n",
      "Epoch 34/200\n",
      "132/132 [==============================] - 0s 2ms/step - loss: 15.8404\n",
      "Epoch 35/200\n",
      "132/132 [==============================] - 0s 2ms/step - loss: 15.0139\n",
      "Epoch 36/200\n",
      "132/132 [==============================] - 0s 2ms/step - loss: 14.2492\n",
      "Epoch 37/200\n",
      "132/132 [==============================] - 0s 2ms/step - loss: 13.5423\n",
      "Epoch 38/200\n",
      "132/132 [==============================] - 0s 2ms/step - loss: 12.8888\n",
      "Epoch 39/200\n",
      "132/132 [==============================] - 0s 2ms/step - loss: 12.2842\n",
      "Epoch 40/200\n",
      "132/132 [==============================] - 0s 2ms/step - loss: 11.7237\n",
      "Epoch 41/200\n",
      "132/132 [==============================] - 0s 3ms/step - loss: 11.2027\n",
      "Epoch 42/200\n",
      "132/132 [==============================] - 0s 3ms/step - loss: 10.7168\n",
      "Epoch 43/200\n",
      "132/132 [==============================] - 0s 3ms/step - loss: 10.2618\n",
      "Epoch 44/200\n",
      "132/132 [==============================] - 0s 2ms/step - loss: 9.8338\n",
      "Epoch 45/200\n",
      "132/132 [==============================] - 0s 2ms/step - loss: 9.4294\n",
      "Epoch 46/200\n",
      "132/132 [==============================] - 0s 2ms/step - loss: 9.0458\n",
      "Epoch 47/200\n",
      "132/132 [==============================] - 0s 2ms/step - loss: 8.6804\n",
      "Epoch 48/200\n",
      "132/132 [==============================] - 0s 2ms/step - loss: 8.3313\n",
      "Epoch 49/200\n",
      "132/132 [==============================] - 0s 2ms/step - loss: 7.9970\n",
      "Epoch 50/200\n",
      "132/132 [==============================] - 0s 2ms/step - loss: 7.6762\n",
      "Epoch 51/200\n",
      "132/132 [==============================] - 0s 2ms/step - loss: 7.3681\n",
      "Epoch 52/200\n",
      "132/132 [==============================] - 0s 2ms/step - loss: 7.0723\n",
      "Epoch 53/200\n",
      "132/132 [==============================] - 0s 2ms/step - loss: 6.7882\n",
      "Epoch 54/200\n",
      "132/132 [==============================] - 0s 2ms/step - loss: 6.5157\n",
      "Epoch 55/200\n",
      "132/132 [==============================] - 0s 2ms/step - loss: 6.2547\n",
      "Epoch 56/200\n",
      "132/132 [==============================] - 0s 2ms/step - loss: 6.0052\n",
      "Epoch 57/200\n",
      "132/132 [==============================] - 0s 2ms/step - loss: 5.7670\n",
      "Epoch 58/200\n",
      "132/132 [==============================] - 0s 1ms/step - loss: 5.5404\n",
      "Epoch 59/200\n",
      "132/132 [==============================] - 0s 2ms/step - loss: 5.3251\n",
      "Epoch 60/200\n",
      "132/132 [==============================] - 0s 2ms/step - loss: 5.1213\n",
      "Epoch 61/200\n",
      "132/132 [==============================] - 0s 2ms/step - loss: 4.9288\n",
      "Epoch 62/200\n",
      "132/132 [==============================] - 0s 2ms/step - loss: 4.7476\n",
      "Epoch 63/200\n",
      "132/132 [==============================] - 0s 2ms/step - loss: 4.5775\n",
      "Epoch 64/200\n",
      "132/132 [==============================] - 0s 2ms/step - loss: 4.4185\n",
      "Epoch 65/200\n",
      "132/132 [==============================] - 0s 2ms/step - loss: 4.2703\n",
      "Epoch 66/200\n",
      "132/132 [==============================] - 0s 2ms/step - loss: 4.1326\n",
      "Epoch 67/200\n",
      "132/132 [==============================] - 0s 2ms/step - loss: 4.0053\n",
      "Epoch 68/200\n",
      "132/132 [==============================] - 0s 2ms/step - loss: 3.8880\n",
      "Epoch 69/200\n",
      "132/132 [==============================] - 0s 2ms/step - loss: 3.7805\n",
      "Epoch 70/200\n",
      "132/132 [==============================] - 0s 2ms/step - loss: 3.6823\n",
      "Epoch 71/200\n",
      "132/132 [==============================] - 0s 2ms/step - loss: 3.5930\n",
      "Epoch 72/200\n",
      "132/132 [==============================] - 0s 2ms/step - loss: 3.5123\n",
      "Epoch 73/200\n",
      "132/132 [==============================] - 0s 2ms/step - loss: 3.4396\n",
      "Epoch 74/200\n",
      "132/132 [==============================] - 0s 2ms/step - loss: 3.3746\n",
      "Epoch 75/200\n",
      "132/132 [==============================] - 0s 2ms/step - loss: 3.3167\n",
      "Epoch 76/200\n",
      "132/132 [==============================] - 0s 2ms/step - loss: 3.2654\n",
      "Epoch 77/200\n",
      "132/132 [==============================] - 0s 2ms/step - loss: 3.2202\n",
      "Epoch 78/200\n",
      "132/132 [==============================] - 0s 2ms/step - loss: 3.1806\n",
      "Epoch 79/200\n",
      "132/132 [==============================] - 0s 2ms/step - loss: 3.1461\n",
      "Epoch 80/200\n",
      "132/132 [==============================] - 0s 2ms/step - loss: 3.1162\n",
      "Epoch 81/200\n",
      "132/132 [==============================] - 0s 2ms/step - loss: 3.0904\n",
      "Epoch 82/200\n",
      "132/132 [==============================] - 0s 2ms/step - loss: 3.0682\n",
      "Epoch 83/200\n",
      "132/132 [==============================] - 0s 2ms/step - loss: 3.0492\n",
      "Epoch 84/200\n",
      "132/132 [==============================] - 0s 2ms/step - loss: 3.0330\n",
      "Epoch 85/200\n",
      "132/132 [==============================] - 0s 2ms/step - loss: 3.0193\n",
      "Epoch 86/200\n",
      "132/132 [==============================] - 0s 1ms/step - loss: 3.0076\n",
      "Epoch 87/200\n",
      "132/132 [==============================] - 0s 1ms/step - loss: 2.9976\n",
      "Epoch 88/200\n",
      "132/132 [==============================] - 0s 2ms/step - loss: 2.9892\n",
      "Epoch 89/200\n",
      "132/132 [==============================] - 0s 2ms/step - loss: 2.9820\n",
      "Epoch 90/200\n",
      "132/132 [==============================] - 0s 2ms/step - loss: 2.9759\n",
      "Epoch 91/200\n",
      "132/132 [==============================] - 0s 2ms/step - loss: 2.9706\n",
      "Epoch 92/200\n",
      "132/132 [==============================] - 0s 2ms/step - loss: 2.9660\n",
      "Epoch 93/200\n",
      "132/132 [==============================] - 0s 2ms/step - loss: 2.9621\n",
      "Epoch 94/200\n",
      "132/132 [==============================] - 0s 2ms/step - loss: 2.9587\n",
      "Epoch 95/200\n",
      "132/132 [==============================] - 0s 3ms/step - loss: 2.9556\n",
      "Epoch 96/200\n",
      "132/132 [==============================] - 0s 3ms/step - loss: 2.9529A: 0s - loss: 2.0\n",
      "Epoch 97/200\n",
      "132/132 [==============================] - 0s 2ms/step - loss: 2.9505\n",
      "Epoch 98/200\n"
     ]
    },
    {
     "name": "stdout",
     "output_type": "stream",
     "text": [
      "132/132 [==============================] - 0s 2ms/step - loss: 2.9483\n",
      "Epoch 99/200\n",
      "132/132 [==============================] - 0s 2ms/step - loss: 2.9463\n",
      "Epoch 100/200\n",
      "132/132 [==============================] - 0s 2ms/step - loss: 2.9445\n",
      "Epoch 101/200\n",
      "132/132 [==============================] - 0s 2ms/step - loss: 2.9428\n",
      "Epoch 102/200\n",
      "132/132 [==============================] - 0s 2ms/step - loss: 2.9413A: 0s - loss: 2.406\n",
      "Epoch 103/200\n",
      "132/132 [==============================] - 0s 2ms/step - loss: 2.9398\n",
      "Epoch 104/200\n",
      "132/132 [==============================] - 0s 2ms/step - loss: 2.9384\n",
      "Epoch 105/200\n",
      "132/132 [==============================] - 0s 2ms/step - loss: 2.9371\n",
      "Epoch 106/200\n",
      "132/132 [==============================] - 0s 2ms/step - loss: 2.9359\n",
      "Epoch 107/200\n",
      "132/132 [==============================] - 0s 2ms/step - loss: 2.9348\n",
      "Epoch 108/200\n",
      "132/132 [==============================] - 0s 2ms/step - loss: 2.9337\n",
      "Epoch 109/200\n",
      "132/132 [==============================] - 0s 1ms/step - loss: 2.9326\n",
      "Epoch 110/200\n",
      "132/132 [==============================] - 0s 1ms/step - loss: 2.9316\n",
      "Epoch 111/200\n",
      "132/132 [==============================] - 0s 2ms/step - loss: 2.9307\n",
      "Epoch 112/200\n",
      "132/132 [==============================] - 0s 1ms/step - loss: 2.9298\n",
      "Epoch 113/200\n",
      "132/132 [==============================] - 0s 2ms/step - loss: 2.9289\n",
      "Epoch 114/200\n",
      "132/132 [==============================] - 0s 1ms/step - loss: 2.9280\n",
      "Epoch 115/200\n",
      "132/132 [==============================] - 0s 2ms/step - loss: 2.9272\n",
      "Epoch 116/200\n",
      "132/132 [==============================] - 0s 2ms/step - loss: 2.9265\n",
      "Epoch 117/200\n",
      "132/132 [==============================] - 0s 2ms/step - loss: 2.9257\n",
      "Epoch 118/200\n",
      "132/132 [==============================] - 0s 2ms/step - loss: 2.9250\n",
      "Epoch 119/200\n",
      "132/132 [==============================] - 0s 2ms/step - loss: 2.9243\n",
      "Epoch 120/200\n",
      "132/132 [==============================] - 0s 3ms/step - loss: 2.9236\n",
      "Epoch 121/200\n",
      "132/132 [==============================] - 0s 2ms/step - loss: 2.9230\n",
      "Epoch 122/200\n",
      "132/132 [==============================] - 0s 2ms/step - loss: 2.9223\n",
      "Epoch 123/200\n",
      "132/132 [==============================] - 0s 2ms/step - loss: 2.9217\n",
      "Epoch 124/200\n",
      "132/132 [==============================] - 0s 2ms/step - loss: 2.9211\n",
      "Epoch 125/200\n",
      "132/132 [==============================] - 0s 2ms/step - loss: 2.9206\n",
      "Epoch 126/200\n",
      "132/132 [==============================] - 0s 2ms/step - loss: 2.9200\n",
      "Epoch 127/200\n",
      "132/132 [==============================] - 0s 2ms/step - loss: 2.9195\n",
      "Epoch 128/200\n",
      "132/132 [==============================] - 0s 2ms/step - loss: 2.9189\n",
      "Epoch 129/200\n",
      "132/132 [==============================] - 0s 2ms/step - loss: 2.9184\n",
      "Epoch 130/200\n",
      "132/132 [==============================] - 0s 2ms/step - loss: 2.9179A: 0s - loss: 1.4\n",
      "Epoch 131/200\n",
      "132/132 [==============================] - 0s 2ms/step - loss: 2.9175\n",
      "Epoch 132/200\n",
      "132/132 [==============================] - 0s 2ms/step - loss: 2.9170\n",
      "Epoch 133/200\n",
      "132/132 [==============================] - 0s 2ms/step - loss: 2.9165\n",
      "Epoch 134/200\n",
      "132/132 [==============================] - 0s 2ms/step - loss: 2.9161\n",
      "Epoch 135/200\n",
      "132/132 [==============================] - 0s 2ms/step - loss: 2.9156\n",
      "Epoch 136/200\n",
      "132/132 [==============================] - 0s 2ms/step - loss: 2.9152\n",
      "Epoch 137/200\n",
      "132/132 [==============================] - 0s 1ms/step - loss: 2.9148\n",
      "Epoch 138/200\n",
      "132/132 [==============================] - 0s 1ms/step - loss: 2.9144\n",
      "Epoch 139/200\n",
      "132/132 [==============================] - 0s 1ms/step - loss: 2.9140\n",
      "Epoch 140/200\n",
      "132/132 [==============================] - 0s 1ms/step - loss: 2.9136\n",
      "Epoch 141/200\n",
      "132/132 [==============================] - 0s 2ms/step - loss: 2.9132\n",
      "Epoch 142/200\n",
      "132/132 [==============================] - 0s 2ms/step - loss: 2.9129\n",
      "Epoch 143/200\n",
      "132/132 [==============================] - 0s 2ms/step - loss: 2.9125\n",
      "Epoch 144/200\n",
      "132/132 [==============================] - 0s 1ms/step - loss: 2.9121\n",
      "Epoch 145/200\n",
      "132/132 [==============================] - 0s 2ms/step - loss: 2.9118\n",
      "Epoch 146/200\n",
      "132/132 [==============================] - 0s 2ms/step - loss: 2.9114A: 0s - loss: 2.888\n",
      "Epoch 147/200\n",
      "132/132 [==============================] - 0s 2ms/step - loss: 2.9111\n",
      "Epoch 148/200\n",
      "132/132 [==============================] - 0s 2ms/step - loss: 2.9108\n",
      "Epoch 149/200\n",
      "132/132 [==============================] - 0s 2ms/step - loss: 2.9104\n",
      "Epoch 150/200\n",
      "132/132 [==============================] - 0s 2ms/step - loss: 2.9101\n",
      "Epoch 151/200\n",
      "132/132 [==============================] - 0s 2ms/step - loss: 2.9098\n",
      "Epoch 152/200\n",
      "132/132 [==============================] - 0s 2ms/step - loss: 2.9095\n",
      "Epoch 153/200\n",
      "132/132 [==============================] - 0s 2ms/step - loss: 2.9092\n",
      "Epoch 154/200\n",
      "132/132 [==============================] - 0s 1ms/step - loss: 2.9089\n",
      "Epoch 155/200\n",
      "132/132 [==============================] - 0s 2ms/step - loss: 2.9086\n",
      "Epoch 156/200\n",
      "132/132 [==============================] - 0s 2ms/step - loss: 2.9083\n",
      "Epoch 157/200\n",
      "132/132 [==============================] - 0s 2ms/step - loss: 2.9080\n",
      "Epoch 158/200\n",
      "132/132 [==============================] - 0s 2ms/step - loss: 2.9077\n",
      "Epoch 159/200\n",
      "132/132 [==============================] - 0s 2ms/step - loss: 2.9075\n",
      "Epoch 160/200\n",
      "132/132 [==============================] - 0s 2ms/step - loss: 2.9072\n",
      "Epoch 161/200\n",
      "132/132 [==============================] - 0s 2ms/step - loss: 2.9069\n",
      "Epoch 162/200\n",
      "132/132 [==============================] - 0s 2ms/step - loss: 2.9067\n",
      "Epoch 163/200\n",
      "132/132 [==============================] - 0s 2ms/step - loss: 2.9064\n",
      "Epoch 164/200\n",
      "132/132 [==============================] - 0s 1ms/step - loss: 2.9061\n",
      "Epoch 165/200\n",
      "132/132 [==============================] - 0s 1ms/step - loss: 2.9059\n",
      "Epoch 166/200\n",
      "132/132 [==============================] - 0s 2ms/step - loss: 2.9056A: 0s - loss: 2.820\n",
      "Epoch 167/200\n",
      "132/132 [==============================] - ETA: 0s - loss: 2.446 - 0s 2ms/step - loss: 2.9054\n",
      "Epoch 168/200\n",
      "132/132 [==============================] - 0s 2ms/step - loss: 2.9051\n",
      "Epoch 169/200\n",
      "132/132 [==============================] - 0s 2ms/step - loss: 2.9049\n",
      "Epoch 170/200\n",
      "132/132 [==============================] - 0s 2ms/step - loss: 2.9047\n",
      "Epoch 171/200\n",
      "132/132 [==============================] - 0s 2ms/step - loss: 2.9044\n",
      "Epoch 172/200\n",
      "132/132 [==============================] - 0s 2ms/step - loss: 2.9042\n",
      "Epoch 173/200\n",
      "132/132 [==============================] - 0s 2ms/step - loss: 2.9040\n",
      "Epoch 174/200\n",
      "132/132 [==============================] - 0s 2ms/step - loss: 2.9037\n",
      "Epoch 175/200\n",
      "132/132 [==============================] - 0s 2ms/step - loss: 2.9035\n",
      "Epoch 176/200\n",
      "132/132 [==============================] - 0s 2ms/step - loss: 2.9033\n",
      "Epoch 177/200\n",
      "132/132 [==============================] - 0s 1ms/step - loss: 2.9030\n",
      "Epoch 178/200\n",
      "132/132 [==============================] - 0s 1ms/step - loss: 2.9028\n",
      "Epoch 179/200\n",
      "132/132 [==============================] - 0s 2ms/step - loss: 2.9026\n",
      "Epoch 180/200\n",
      "132/132 [==============================] - 0s 1ms/step - loss: 2.9024\n",
      "Epoch 181/200\n",
      "132/132 [==============================] - 0s 2ms/step - loss: 2.9022\n",
      "Epoch 182/200\n",
      "132/132 [==============================] - 0s 1ms/step - loss: 2.9020\n",
      "Epoch 183/200\n",
      "132/132 [==============================] - 0s 2ms/step - loss: 2.9018\n",
      "Epoch 184/200\n",
      "132/132 [==============================] - 0s 2ms/step - loss: 2.9015\n",
      "Epoch 185/200\n",
      "132/132 [==============================] - 0s 2ms/step - loss: 2.9013\n",
      "Epoch 186/200\n",
      "132/132 [==============================] - 0s 2ms/step - loss: 2.9011\n",
      "Epoch 187/200\n",
      "132/132 [==============================] - 0s 2ms/step - loss: 2.9009\n",
      "Epoch 188/200\n",
      "132/132 [==============================] - 0s 3ms/step - loss: 2.9007\n",
      "Epoch 189/200\n",
      "132/132 [==============================] - 0s 2ms/step - loss: 2.9005\n",
      "Epoch 190/200\n",
      "132/132 [==============================] - 0s 2ms/step - loss: 2.9003\n",
      "Epoch 191/200\n",
      "132/132 [==============================] - 0s 2ms/step - loss: 2.9001A: 0s - loss: 1.\n",
      "Epoch 192/200\n",
      "132/132 [==============================] - 0s 2ms/step - loss: 2.8999\n",
      "Epoch 193/200\n",
      "132/132 [==============================] - 0s 2ms/step - loss: 2.8997\n",
      "Epoch 194/200\n",
      "132/132 [==============================] - 0s 2ms/step - loss: 2.8995\n",
      "Epoch 195/200\n",
      "132/132 [==============================] - 0s 1ms/step - loss: 2.8993\n",
      "Epoch 196/200\n",
      "132/132 [==============================] - 0s 1ms/step - loss: 2.8992\n",
      "Epoch 197/200\n",
      "132/132 [==============================] - 0s 1ms/step - loss: 2.8990A: 0s - loss: 1.69\n",
      "Epoch 198/200\n",
      "132/132 [==============================] - 0s 1ms/step - loss: 2.8988\n",
      "Epoch 199/200\n",
      "132/132 [==============================] - 0s 1ms/step - loss: 2.8986\n",
      "Epoch 200/200\n",
      "132/132 [==============================] - 0s 1ms/step - loss: 2.8984\n"
     ]
    }
   ],
   "source": [
    "K.clear_session()\n",
    "model_lstm = Sequential()\n",
    "model_lstm.add(LSTM(16, input_shape=(1, X_train.shape[1]), activation='relu', return_sequences=False))\n",
    "model_lstm.add(Dense(1))\n",
    "model_lstm.compile(loss='mean_squared_error', optimizer='adam')\n",
    "early_stop = EarlyStopping(monitor='loss', patience=5, verbose=1)\n",
    "history_model_lstm = model_lstm.fit(X_tr_t, y_train, epochs=200, batch_size=8, verbose=1, shuffle=False, callbacks=[early_stop])"
   ]
  },
  {
   "cell_type": "code",
   "execution_count": 123,
   "id": "aea79c07",
   "metadata": {},
   "outputs": [
    {
     "name": "stdout",
     "output_type": "stream",
     "text": [
      "The R2 score on the Train set is:\t0.996\n",
      "The R2 score on the Test set is:\t0.855\n"
     ]
    }
   ],
   "source": [
    "y_pred_test_lstm = model_lstm.predict(X_tst_t)\n",
    "y_train_pred_lstm = model_lstm.predict(X_tr_t)\n",
    "print(\"The R2 score on the Train set is:\\t{:0.3f}\".format(r2_score(y_train, y_train_pred_lstm)))\n",
    "r2_train = r2_score(y_train, y_train_pred_lstm)\n",
    "\n",
    "print(\"The R2 score on the Test set is:\\t{:0.3f}\".format(r2_score(y_test, y_pred_test_lstm)))\n",
    "r2_test = r2_score(y_test, y_pred_test_lstm)"
   ]
  },
  {
   "cell_type": "code",
   "execution_count": 124,
   "id": "48189561",
   "metadata": {},
   "outputs": [
    {
     "name": "stdout",
     "output_type": "stream",
     "text": [
      "105/105 [==============================] - 0s 755us/step - loss: 4.0085\n"
     ]
    }
   ],
   "source": [
    "score_lstm= model_lstm.evaluate(X_tst_t, y_test, batch_size=1)"
   ]
  },
  {
   "cell_type": "code",
   "execution_count": 125,
   "id": "ed6cf782",
   "metadata": {},
   "outputs": [
    {
     "name": "stdout",
     "output_type": "stream",
     "text": [
      "LSTM: 4.008532\n"
     ]
    }
   ],
   "source": [
    "print('LSTM: %f'%score_lstm)"
   ]
  },
  {
   "cell_type": "code",
   "execution_count": 126,
   "id": "c20e4ad7",
   "metadata": {},
   "outputs": [],
   "source": [
    "y_pred_test_LSTM = model_lstm.predict(X_tst_t)"
   ]
  },
  {
   "cell_type": "markdown",
   "id": "20722293",
   "metadata": {},
   "source": [
    "## Plotting the predictions"
   ]
  },
  {
   "cell_type": "code",
   "execution_count": 127,
   "id": "71e32446",
   "metadata": {},
   "outputs": [
    {
     "data": {
      "text/plain": [
       "<matplotlib.legend.Legend at 0x2177cd29e20>"
      ]
     },
     "execution_count": 127,
     "metadata": {},
     "output_type": "execute_result"
    },
    {
     "data": {
      "image/png": "[encoded data removed]",
      "text/plain": [
       "<Figure size 1152x576 with 1 Axes>"
      ]
     },
     "metadata": {
      "needs_background": "light"
     },
     "output_type": "display_data"
    }
   ],
   "source": [
    "predictions = y_pred_test_LSTM\n",
    "fig, ax = plt.subplots(figsize=(16,8))\n",
    "ax.set_facecolor('#000041')\n",
    "ax.plot(y_test, color='red', label='Original price')\n",
    "plt.plot(predictions, color='cyan', label='Predicted price')\n",
    "plt.legend()"
   ]
  },
  {
   "cell_type": "code",
   "execution_count": 128,
   "id": "f8c6f083",
   "metadata": {},
   "outputs": [
    {
     "name": "stdout",
     "output_type": "stream",
     "text": [
      "Saved model to disk\n"
     ]
    }
   ],
   "source": [
    "model_json = model_lstm.to_json()\n",
    "with open(\"model.json\", \"w\") as json_file:\n",
    "    json_file.write(model_json)\n",
    "# serialize weights to HDF5\n",
    "model_lstm.save_weights(\"model.h5\")\n",
    "print(\"Saved model to disk\")"
   ]
  },
  {
   "cell_type": "code",
   "execution_count": 129,
   "id": "58cfc64b",
   "metadata": {},
   "outputs": [
    {
     "name": "stdout",
     "output_type": "stream",
     "text": [
      "Loaded model from disk\n"
     ]
    }
   ],
   "source": [
    "json_file = open('model.json', 'r')\n",
    "loaded_model_json = json_file.read()\n",
    "#json_file.close()\n",
    "loaded_model = model_from_json(loaded_model_json)\n",
    "# load weights into new model\n",
    "loaded_model.load_weights(\"model.h5\")\n",
    "print(\"Loaded model from disk\")"
   ]
  },
  {
   "cell_type": "code",
   "execution_count": 130,
   "id": "380d400e",
   "metadata": {},
   "outputs": [],
   "source": [
    "loaded_model.compile(loss='mean_squared_error', optimizer='adam')"
   ]
  },
  {
   "cell_type": "code",
   "execution_count": 131,
   "id": "3916c2b2",
   "metadata": {},
   "outputs": [
    {
     "name": "stdout",
     "output_type": "stream",
     "text": [
      "105/105 [==============================] - 0s 769us/step - loss: 4.0085\n"
     ]
    }
   ],
   "source": [
    "\n",
    "score= loaded_model.evaluate(X_tst_t, y_test, batch_size=1)"
   ]
  },
  {
   "cell_type": "code",
   "execution_count": 132,
   "id": "b009fa91",
   "metadata": {},
   "outputs": [
    {
     "data": {
      "text/plain": [
       "4.0085320472717285"
      ]
     },
     "execution_count": 132,
     "metadata": {},
     "output_type": "execute_result"
    }
   ],
   "source": [
    "score"
   ]
  }
 ],
 "metadata": {
  "kernelspec": {
   "display_name": "Python 3",
   "language": "python",
   "name": "python3"
  },
  "language_info": {
   "codemirror_mode": {
    "name": "ipython",
    "version": 3
   },
   "file_extension": ".py",
   "mimetype": "text/x-python",
   "name": "python",
   "nbconvert_exporter": "python",
   "pygments_lexer": "ipython3",
   "version": "3.8.5"
  }
 },
 "nbformat": 4,
 "nbformat_minor": 5
}
